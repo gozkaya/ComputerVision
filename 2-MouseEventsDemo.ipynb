{
 "cells": [
  {
   "cell_type": "markdown",
   "metadata": {},
   "source": [
    "# Mouse Events in CV2"
   ]
  },
  {
   "cell_type": "markdown",
   "metadata": {},
   "source": [
    "This pyhon notebook shows the use of two MOUSE EVENTS.\n",
    "- LEFT CLICK EVENT displays the coordinate values of the clicked location\n",
    "- RIGHT CLICK EVENT displays the coordinate values on the image file "
   ]
  },
  {
   "cell_type": "code",
   "execution_count": null,
   "metadata": {},
   "outputs": [],
   "source": [
    "import cv2\n",
    "\n",
    "def click_event(event, x, y, flags, param):\n",
    "    if event == cv2.EVENT_LBUTTONDOWN:\n",
    "        print(x,y)\n",
    "        \n",
    "    if event == cv2.EVENT_RBUTTONDOWN:\n",
    "        red = img[y,x,2]\n",
    "        green = img[y,x,1]\n",
    "        blue = img[y,x,0]\n",
    "        \n",
    "        print(red, green, blue)\n",
    "        strRGB = str(red) + \",\" + str(green) + \",\" +str(blue)\n",
    "        font = cv2.FONT_HERSHEY_SIMPLEX\n",
    "        cv2.putText(img,strRGB,(x,y), font, 1,(1,1,1),2)\n",
    "        cv2.imshow('image', img)\n",
    "        \n",
    "img = cv2.imread('myimage.png')\n",
    "\n",
    "cv2.imshow('image', img)\n",
    "cv2.setMouseCallback(\"image\", click_event)\n",
    "\n",
    "cv2.waitKey(0);\n",
    "cv2.destroyAllWindows();\n",
    "cv2.waitKey(1)"
   ]
  },
  {
   "cell_type": "code",
   "execution_count": null,
   "metadata": {},
   "outputs": [],
   "source": []
  }
 ],
 "metadata": {
  "kernelspec": {
   "display_name": "Python 3",
   "language": "python",
   "name": "python3"
  },
  "language_info": {
   "codemirror_mode": {
    "name": "ipython",
    "version": 3
   },
   "file_extension": ".py",
   "mimetype": "text/x-python",
   "name": "python",
   "nbconvert_exporter": "python",
   "pygments_lexer": "ipython3",
   "version": "3.7.6"
  }
 },
 "nbformat": 4,
 "nbformat_minor": 4
}
