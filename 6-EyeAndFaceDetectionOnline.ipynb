{
 "cells": [
  {
   "cell_type": "markdown",
   "metadata": {},
   "source": [
    "# Eye Detection & Face Detection On Built-In Video"
   ]
  },
  {
   "cell_type": "markdown",
   "metadata": {},
   "source": [
    "- This python notebook opens up built-in camera and lively detects eyes and faces within rectangles.\n",
    "- This code does not operate on local video files. It is intended to do face & eye detection on built-in camera video lively."
   ]
  },
  {
   "cell_type": "code",
   "execution_count": null,
   "metadata": {},
   "outputs": [],
   "source": [
    "import cv2\n",
    "import sys\n",
    "\n",
    "\n",
    "# SET CLASSIFIER XML PATHS\n",
    "longpath = sys.argv[0]\n",
    "let = longpath[-1]\n",
    "i=1\n",
    "while let != '/':\n",
    "    length = len(longpath)\n",
    "    longpath = longpath[:length-1]\n",
    "    let = longpath[-1]\n",
    "xml_path = longpath + \"cv2/data/\"\n",
    "\n",
    "\n",
    "# SET FACE and EYE CLASSIFIERS\n",
    "faceCascade = cv2.CascadeClassifier(xml_path + 'haarcascade_frontalface_default.xml')\n",
    "eyeCascade = cv2.CascadeClassifier(xml_path + 'haarcascade_eye.xml')\n",
    "\n",
    "\n",
    "# CAPTURE BUILT-IN CAM\n",
    "video_capture = cv2.VideoCapture(0)\n",
    "\n",
    "\n",
    "# CAPTURE VIDEO UNTIL QUIT by HITTING \"Q\"\n",
    "while True:\n",
    "    # Capture frame by frame\n",
    "    ret, frame = video_capture.read()\n",
    "\n",
    "    gray = cv2.cvtColor(frame, cv2.COLOR_BGR2GRAY)\n",
    "\n",
    "    faces = faceCascade.detectMultiScale(\n",
    "        gray,\n",
    "        scaleFactor=1.1,\n",
    "        minNeighbors=5,\n",
    "        minSize=(30, 30),\n",
    "        flags=cv2.CASCADE_SCALE_IMAGE\n",
    "    )\n",
    "\n",
    "    # Draw a rectangle around faces and eyes\n",
    "    for (x, y, w, h) in faces:\n",
    "        cv2.rectangle(frame,\n",
    "                      (x, y),\n",
    "                      (x+w, y+h),\n",
    "                      (0, 255, 0),\n",
    "                      2)\n",
    "        \n",
    "        roiGray = gray[y:y+h, x:x+w]\n",
    "        roiColor = frame[y:y+h, x:x+w]\n",
    "        eyes = eyeCascade.detectMultiScale(roiGray)\n",
    "        \n",
    "        for (ex,ey,ew,eh) in eyes:\n",
    "            cv2.rectangle(roiColor,\n",
    "                          (ex,ey),\n",
    "                          (ex+ew,ey+eh),\n",
    "                          (0,255,0),\n",
    "                          2)\n",
    "\n",
    "    # Display resulting frame\n",
    "    cv2.imshow('frame', frame)\n",
    "\n",
    "    # Stop camera by hitting Q\n",
    "    if cv2.waitKey(1) & 0xFF == ord('q'):\n",
    "        break\n",
    "\n",
    "# Release capture and close sessions\n",
    "video_capture.release()\n",
    "cv2.waitKey(0);\n",
    "cv2.destroyAllWindows();\n",
    "cv2.waitKey(1)"
   ]
  }
 ],
 "metadata": {
  "kernelspec": {
   "display_name": "Python 3",
   "language": "python",
   "name": "python3"
  },
  "language_info": {
   "codemirror_mode": {
    "name": "ipython",
    "version": 3
   },
   "file_extension": ".py",
   "mimetype": "text/x-python",
   "name": "python",
   "nbconvert_exporter": "python",
   "pygments_lexer": "ipython3",
   "version": "3.7.6"
  }
 },
 "nbformat": 4,
 "nbformat_minor": 4
}
