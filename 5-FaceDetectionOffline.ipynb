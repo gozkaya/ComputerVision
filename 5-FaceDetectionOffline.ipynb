{
 "cells": [
  {
   "cell_type": "markdown",
   "metadata": {},
   "source": [
    "# Multiple Face Detection"
   ]
  },
  {
   "cell_type": "markdown",
   "metadata": {},
   "source": [
    "- This pyhon notebook is intended to detect multiple faces on a specified image file"
   ]
  },
  {
   "cell_type": "code",
   "execution_count": null,
   "metadata": {},
   "outputs": [],
   "source": [
    "import cv2\n",
    "import sys\n",
    "\n",
    "\n",
    "# SET XML PATHS\n",
    "longpath = sys.argv[0]\n",
    "let = longpath[-1]\n",
    "while let != '/':\n",
    "    length = len(longpath)\n",
    "    longpath = longpath[:length-1]\n",
    "    let = longpath[-1]\n",
    "xml_path = longpath+\"cv2/data/\"\n",
    "\n",
    "\n",
    "# FACE CLASSIFIER XML_PATH\n",
    "face_cascade = cv2.CascadeClassifier(xml_path + 'haarcascade_frontalface_default.xml')\n",
    "\n",
    "# SPECIFY IMAGE FILE\n",
    "img = cv2.imread('myimage.png')\n",
    "gray = cv2.cvtColor(img, cv2.COLOR_BGR2GRAY)\n",
    "\n",
    "\n",
    "# DETECT MULTIPLE FACES AT THE SAME TIME\n",
    "faces = face_cascade.detectMultiScale(gray, 1.3, 5)\n",
    "for (x,y,w,h) in faces:\n",
    "    cv2.rectangle(img,(x,y),(x+w,y+h),(255,0,0),2)\n",
    "    roiGray = gray[y:y+h, x:x+w]\n",
    "    roiColor = img[y:y+h, x:x+w]\n",
    "\n",
    "\n",
    "cv2.imshow('img',img)\n",
    "cv2.waitKey(0)\n",
    "cv2.destroyAllWindows()\n",
    "cv2.waitKey(1)"
   ]
  }
 ],
 "metadata": {
  "kernelspec": {
   "display_name": "Python 3",
   "language": "python",
   "name": "python3"
  },
  "language_info": {
   "codemirror_mode": {
    "name": "ipython",
    "version": 3
   },
   "file_extension": ".py",
   "mimetype": "text/x-python",
   "name": "python",
   "nbconvert_exporter": "python",
   "pygments_lexer": "ipython3",
   "version": "3.7.6"
  }
 },
 "nbformat": 4,
 "nbformat_minor": 4
}
